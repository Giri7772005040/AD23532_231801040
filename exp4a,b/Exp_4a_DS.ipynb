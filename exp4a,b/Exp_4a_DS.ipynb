{
  "nbformat": 4,
  "nbformat_minor": 0,
  "metadata": {
    "colab": {
      "provenance": []
    },
    "kernelspec": {
      "name": "python3",
      "display_name": "Python 3"
    },
    "language_info": {
      "name": "python"
    }
  },
  "cells": [
    {
      "cell_type": "code",
      "execution_count": 7,
      "metadata": {
        "colab": {
          "base_uri": "https://localhost:8080/"
        },
        "id": "03MTRaSRjWPU",
        "outputId": "645c4b43-b3c4-4127-f099-c80958ad0d27"
      },
      "outputs": [
        {
          "output_type": "stream",
          "name": "stderr",
          "text": [
            "[nltk_data] Downloading package stopwords to /root/nltk_data...\n",
            "[nltk_data]   Package stopwords is already up-to-date!\n"
          ]
        },
        {
          "output_type": "stream",
          "name": "stdout",
          "text": [
            "\n",
            "Query: 'great product with fast shipping'\n",
            "\n",
            "Top 1 Review (Score: 0.338):\n",
            "Original: Fast friendly service.\n",
            "\n",
            "Cleaned:  fast friendly service\n",
            "\n",
            "Top 2 Review (Score: 0.309):\n",
            "Original: I found an LP I was looking for at a very fair price on their website. After paying $15.00 shipping, it took several weeks to receive since they only put $4.22 postage on it to cover the media mail charge. Plus they shipped it 2 weeks after I paid. So they overcharged me $10 for shipping AND dragged their feet in shipping it. I would avoid using them for any type of mail order. Says a lot about their business ethics, or lack thereof.\n",
            "\n",
            "Cleaned:  found lp looking fair price website paying 1500 shipping took several weeks receive since put 422 postage cover media mail charge plus shipped 2 weeks paid overcharged 10 shipping dragged feet shipping would avoid using type mail order says lot business ethics lack thereof\n",
            "\n",
            "Top 3 Review (Score: 0.305):\n",
            "Original: Very extensive product knowledge & selection.  Tim & Brenda are extremely helpful, and will work with you to make sure your finished product is exactly what you had imagined!\n",
            "\n",
            "Cleaned:  extensive product knowledge selection tim brenda extremely helpful work make sure finished product exactly imagined\n",
            "\n",
            "Top 4 Review (Score: 0.241):\n",
            "Original: AWESOME! Fast, easy, professional.\n",
            "\n",
            "Cleaned:  awesome fast easy professional\n",
            "\n",
            "Top 5 Review (Score: 0.237):\n",
            "Original: wow!!! super fast and fun!!!\n",
            "\n",
            "Cleaned:  wow super fast fun\n",
            "\n",
            "Query: 'disappointed'\n",
            "\n",
            "Top 1 Review (Score: 0.438):\n",
            "Original: I LOVE this place! I've been a client for about 5 years and have never been disappointed.\n",
            "\n",
            "Cleaned:  love place ive client 5 years never disappointed\n",
            "\n",
            "Top 2 Review (Score: 0.318):\n",
            "Original: Disappointed! Menu looked good but very expensive. The food was average. I can see no justification for their prices. Our main entrees were delivered to the table before our appetizer and salads. I can understand having problems if it's busy but it wasn't. I'm very disappointed in everything about this restaurant. We won't be coming back unless we have to, and if we do, we'll make sure we eat somewhere else first.\n",
            "\n",
            "Cleaned:  disappointed menu looked good expensive food average see justification prices main entrees delivered table appetizer salads understand problems busy wasnt im disappointed everything restaurant wont coming back unless well make sure eat somewhere else first\n",
            "\n",
            "Top 3 Review (Score: 0.267):\n",
            "Original: You can't go wrong with Cain's. The staff is friendly and the food is great. I'm a regular guest and I've never been disappointed. I highly recommend it.\n",
            "\n",
            "Cleaned:  cant go wrong cains staff friendly food great im regular guest ive never disappointed highly recommend\n",
            "\n",
            "Top 4 Review (Score: 0.265):\n",
            "Original: First and last to this club. Very pricy,poor service and no contact dance. ... Other clubs in charlotte are better ... Very disappointed .....\n",
            "\n",
            "Cleaned:  first last club pricypoor service contact dance clubs charlotte better disappointed\n",
            "\n",
            "Top 5 Review (Score: 0.253):\n",
            "Original: Good, honest food, at a fair price, made by cheerful folk. I've been going there for years, and am rarely disappointed.\n",
            "\n",
            "Cleaned:  good honest food fair price made cheerful folk ive going years rarely disappointed\n"
          ]
        }
      ],
      "source": [
        "import pandas as pd\n",
        "import numpy as np\n",
        "import nltk\n",
        "from nltk.corpus import stopwords\n",
        "from sklearn.feature_extraction.text import TfidfVectorizer\n",
        "from sklearn.metrics.pairwise import cosine_similarity\n",
        "import re\n",
        "\n",
        "nltk.download('stopwords')\n",
        "\n",
        "df = pd.read_csv('TestReviews.csv')\n",
        "reviews = df['review'].dropna().head(10000).reset_index(drop=True)\n",
        "\n",
        "stop_words = set(stopwords.words('english'))\n",
        "\n",
        "def preprocess_text(text):\n",
        "    text = text.lower()\n",
        "    text = re.sub(r'[^a-z0-9\\s]', '', text)\n",
        "    tokens = text.split()\n",
        "    tokens = [word for word in tokens if word not in stop_words]\n",
        "    return \" \".join(tokens)\n",
        "\n",
        "cleaned_reviews = reviews.apply(preprocess_text)\n",
        "\n",
        "vectorizer = TfidfVectorizer()\n",
        "tfidf_matrix = vectorizer.fit_transform(cleaned_reviews)\n",
        "\n",
        "def retrieve_reviews(query, tfidf_matrix=tfidf_matrix, vectorizer=vectorizer, original_reviews=reviews, cleaned_reviews=cleaned_reviews, top_k=5):\n",
        "    query_clean = preprocess_text(query)\n",
        "    query_vec = vectorizer.transform([query_clean])\n",
        "    similarities = cosine_similarity(query_vec, tfidf_matrix).flatten()\n",
        "    top_indices = similarities.argsort()[-top_k:][::-1]\n",
        "    results = []\n",
        "    for idx in top_indices:\n",
        "        results.append({\n",
        "            'original_review': original_reviews[idx],\n",
        "            'cleaned_review': cleaned_reviews[idx],\n",
        "            'similarity_score': similarities[idx]\n",
        "        })\n",
        "    return results\n",
        "\n",
        "queries = [\"great product with fast shipping\", \"disappointed\"]\n",
        "\n",
        "for q in queries:\n",
        "    print(f\"\\nQuery: '{q}'\")\n",
        "    top_reviews = retrieve_reviews(q)\n",
        "    for i, review in enumerate(top_reviews):\n",
        "        print(f\"\\nTop {i+1} Review (Score: {review['similarity_score']:.3f}):\")\n",
        "        print(\"Original:\", review['original_review'])\n",
        "        print(\"Cleaned: \", review['cleaned_review'])\n"
      ]
    }
  ]
}